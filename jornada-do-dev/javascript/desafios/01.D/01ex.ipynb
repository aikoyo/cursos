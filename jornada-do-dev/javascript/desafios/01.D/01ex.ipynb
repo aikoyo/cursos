{
 "cells": [
  {
   "cell_type": "markdown",
   "metadata": {},
   "source": [
    "# 01 ) Crie uma variável do tipo objeto, que represente um fiat uno. É necessário conter: ano, modelo, se o carro ainda está em linha, e pelo menos três cores. "
   ]
  },
  {
   "cell_type": "code",
   "execution_count": null,
   "metadata": {
    "dotnet_interactive": {
     "language": "javascript"
    },
    "polyglot_notebook": {
     "kernelName": "javascript"
    },
    "vscode": {
     "languageId": "polyglot-notebook"
    }
   },
   "outputs": [],
   "source": [
    "// minha resolução\n",
    "\n",
    "let fiatUno = {\n",
    "    ano: 2004,\n",
    "    modelo: \"Mille Fire Flex\",\n",
    "    emLinha: false,\n",
    "    cores: [\"Vermelho\", \"Prata\", \"Branco\"]\n",
    "};"
   ]
  },
  {
   "cell_type": "code",
   "execution_count": null,
   "metadata": {
    "dotnet_interactive": {
     "language": "javascript"
    },
    "polyglot_notebook": {
     "kernelName": "javascript"
    },
    "vscode": {
     "languageId": "polyglot-notebook"
    }
   },
   "outputs": [],
   "source": [
    "// resolução da professora\n",
    "\n",
    "let carroUno = { modelo: \"Fiat Uno Mille\", ano:1984, foraLinha: true, cores: [\"Branco\", \"Vermelho\", \"Prata\"]}\n"
   ]
  }
 ],
 "metadata": {
  "kernelspec": {
   "display_name": ".NET (C#)",
   "language": "C#",
   "name": ".net-csharp"
  },
  "language_info": {
   "codemirror_mode": {
    "name": "ipython",
    "version": 3
   },
   "file_extension": ".py",
   "mimetype": "text/x-python",
   "name": "python",
   "nbconvert_exporter": "python",
   "pygments_lexer": "ipython3",
   "version": "3.11.9"
  },
  "polyglot_notebook": {
   "kernelInfo": {
    "defaultKernelName": "csharp",
    "items": [
     {
      "aliases": [],
      "name": "csharp"
     }
    ]
   }
  }
 },
 "nbformat": 4,
 "nbformat_minor": 2
}
