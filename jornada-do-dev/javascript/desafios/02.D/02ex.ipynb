{
 "cells": [
  {
   "cell_type": "markdown",
   "metadata": {},
   "source": [
    "# 02 ) Pedro tem 2 caixas de pirulitos, com 20 unidades cada, e precisa dividir com 5 amigos. Com quantos pirulitos cada amigo ficou? "
   ]
  },
  {
   "cell_type": "code",
   "execution_count": 3,
   "metadata": {
    "dotnet_interactive": {
     "language": "javascript"
    },
    "polyglot_notebook": {
     "kernelName": "javascript"
    },
    "vscode": {
     "languageId": "polyglot-notebook"
    }
   },
   "outputs": [
    {
     "data": {
      "text/plain": [
       "8"
      ]
     },
     "metadata": {},
     "output_type": "display_data"
    }
   ],
   "source": [
    "// minha resolução \n",
    "\n",
    "let totPirulito = 2 * 20;\n",
    "let pirulitoPorAmigo = totPirulito / 5;\n",
    "console.log(pirulitoPorAmigo); "
   ]
  },
  {
   "cell_type": "code",
   "execution_count": 6,
   "metadata": {
    "dotnet_interactive": {
     "language": "javascript"
    },
    "polyglot_notebook": {
     "kernelName": "javascript"
    },
    "vscode": {
     "languageId": "polyglot-notebook"
    }
   },
   "outputs": [
    {
     "data": {
      "text/plain": [
       "8"
      ]
     },
     "metadata": {},
     "output_type": "display_data"
    }
   ],
   "source": [
    "// resolução da professora \n",
    "\n",
    "let qtdCaixas = 2; \n",
    "let unidadePirulitos = 20; \n",
    "let amigosPedro = 5; \n",
    "let totalPirulitos = qtdCaixas * unidadePirulitos; \n",
    "let resultadoDivisao = totalPirulitos / amigosPedro;\n",
    "console.log(resultadoDivisao)"
   ]
  }
 ],
 "metadata": {
  "kernelspec": {
   "display_name": ".NET (C#)",
   "language": "C#",
   "name": ".net-csharp"
  },
  "language_info": {
   "name": "python"
  },
  "polyglot_notebook": {
   "kernelInfo": {
    "defaultKernelName": "csharp",
    "items": [
     {
      "aliases": [],
      "name": "csharp"
     }
    ]
   }
  }
 },
 "nbformat": 4,
 "nbformat_minor": 2
}
